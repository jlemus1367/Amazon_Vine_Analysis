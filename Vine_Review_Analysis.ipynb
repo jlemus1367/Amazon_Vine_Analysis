{
  "nbformat": 4,
  "nbformat_minor": 0,
  "metadata": {
    "colab": {
      "name": "Vine_Review_Analysis.ipynb",
      "provenance": [],
      "collapsed_sections": []
    },
    "kernelspec": {
      "name": "python3",
      "display_name": "Python 3"
    },
    "language_info": {
      "name": "python"
    }
  },
  "cells": [
    {
      "cell_type": "code",
      "metadata": {
        "colab": {
          "base_uri": "https://localhost:8080/"
        },
        "id": "SvwrLNTG0S0A",
        "outputId": "6c7edf36-218a-4577-a40e-dd16b7df2cbc"
      },
      "source": [
        "import os\n",
        "# Find the latest version of spark 2.0  from http://www-us.apache.org/dist/spark/ and enter as the spark version\n",
        "# For example:\n",
        "# spark_version = 'spark-3.0.0'\n",
        "spark_version = 'spark-3.0.2'\n",
        "os.environ['SPARK_VERSION']=spark_version\n",
        "\n",
        "# Install Spark and Java\n",
        "!apt-get update\n",
        "!apt-get install openjdk-11-jdk-headless -qq > /dev/null\n",
        "!wget -q http://www-us.apache.org/dist/spark/$SPARK_VERSION/$SPARK_VERSION-bin-hadoop2.7.tgz\n",
        "!tar xf $SPARK_VERSION-bin-hadoop2.7.tgz\n",
        "!pip install -q findspark\n",
        "\n",
        "# Set Environment Variables\n",
        "import os\n",
        "os.environ[\"JAVA_HOME\"] = \"/usr/lib/jvm/java-11-openjdk-amd64\"\n",
        "os.environ[\"SPARK_HOME\"] = f\"/content/{spark_version}-bin-hadoop2.7\"\n",
        "\n",
        "# Start a SparkSession\n",
        "import findspark\n",
        "findspark.init()"
      ],
      "execution_count": 1,
      "outputs": [
        {
          "output_type": "stream",
          "text": [
            "Hit:1 https://cloud.r-project.org/bin/linux/ubuntu bionic-cran40/ InRelease\n",
            "Ign:2 https://developer.download.nvidia.com/compute/cuda/repos/ubuntu1804/x86_64  InRelease\n",
            "Get:3 http://security.ubuntu.com/ubuntu bionic-security InRelease [88.7 kB]\n",
            "Ign:4 https://developer.download.nvidia.com/compute/machine-learning/repos/ubuntu1804/x86_64  InRelease\n",
            "Get:5 https://developer.download.nvidia.com/compute/cuda/repos/ubuntu1804/x86_64  Release [697 B]\n",
            "Hit:6 https://developer.download.nvidia.com/compute/machine-learning/repos/ubuntu1804/x86_64  Release\n",
            "Hit:7 http://ppa.launchpad.net/c2d4u.team/c2d4u4.0+/ubuntu bionic InRelease\n",
            "Get:8 https://developer.download.nvidia.com/compute/cuda/repos/ubuntu1804/x86_64  Release.gpg [836 B]\n",
            "Hit:9 http://archive.ubuntu.com/ubuntu bionic InRelease\n",
            "Get:11 http://archive.ubuntu.com/ubuntu bionic-updates InRelease [88.7 kB]\n",
            "Hit:12 http://ppa.launchpad.net/cran/libgit2/ubuntu bionic InRelease\n",
            "Ign:13 https://developer.download.nvidia.com/compute/cuda/repos/ubuntu1804/x86_64  Packages\n",
            "Get:13 https://developer.download.nvidia.com/compute/cuda/repos/ubuntu1804/x86_64  Packages [599 kB]\n",
            "Get:14 http://ppa.launchpad.net/deadsnakes/ppa/ubuntu bionic InRelease [15.9 kB]\n",
            "Get:15 http://archive.ubuntu.com/ubuntu bionic-backports InRelease [74.6 kB]\n",
            "Get:16 http://security.ubuntu.com/ubuntu bionic-security/universe amd64 Packages [1,415 kB]\n",
            "Hit:17 http://ppa.launchpad.net/graphics-drivers/ppa/ubuntu bionic InRelease\n",
            "Get:18 http://archive.ubuntu.com/ubuntu bionic-updates/universe amd64 Packages [2,185 kB]\n",
            "Get:19 http://security.ubuntu.com/ubuntu bionic-security/main amd64 Packages [2,185 kB]\n",
            "Get:20 http://archive.ubuntu.com/ubuntu bionic-updates/main amd64 Packages [2,619 kB]\n",
            "Fetched 9,271 kB in 4s (2,314 kB/s)\n",
            "Reading package lists... Done\n"
          ],
          "name": "stdout"
        }
      ]
    },
    {
      "cell_type": "code",
      "metadata": {
        "id": "Q39qQqvy4cM_"
      },
      "source": [
        "from pyspark.sql import SparkSession\n",
        "spark = SparkSession.builder.appName(\"BigData-Challenge\").config(\"spark.driver.extraClassPath\",\"/content/postgresql-42.2.16.jar\").getOrCreate()"
      ],
      "execution_count": 2,
      "outputs": []
    },
    {
      "cell_type": "code",
      "metadata": {
        "colab": {
          "base_uri": "https://localhost:8080/"
        },
        "id": "i444Mygt4nmv",
        "outputId": "432f6462-8697-4493-b4b6-2cdaa1ec1efa"
      },
      "source": [
        "from pyspark import SparkFiles\n",
        "url = \"https://s3.amazonaws.com/amazon-reviews-pds/tsv/amazon_reviews_us_Software_v1_00.tsv.gz\"\n",
        "spark.sparkContext.addFile(url)\n",
        "df = spark.read.option(\"encoding\", \"UTF-8\").csv(SparkFiles.get(\"\"), sep=\"\\t\", header=True, inferSchema=True)\n",
        "df.show(5)"
      ],
      "execution_count": 20,
      "outputs": [
        {
          "output_type": "stream",
          "text": [
            "+-----------+-----------+--------------+----------+--------------+--------------------+----------------+-----------+-------------+-----------+----+-----------------+--------------------+--------------------+-----------+\n",
            "|marketplace|customer_id|     review_id|product_id|product_parent|       product_title|product_category|star_rating|helpful_votes|total_votes|vine|verified_purchase|     review_headline|         review_body|review_date|\n",
            "+-----------+-----------+--------------+----------+--------------+--------------------+----------------+-----------+-------------+-----------+----+-----------------+--------------------+--------------------+-----------+\n",
            "|         US|   42605767|R3EFW2STIYIY0I|B00MUTIDKI|     248732228|McAfee 2015 Inter...|        Software|          1|            2|          2|   N|                Y|I was very disapp...|I was very disapp...| 2015-08-31|\n",
            "|         US|   51771800|R12NR0R5A9F7FT|B00EPACNUG|     531462352|Hallmark Card Stu...|        Software|          5|            0|          0|   N|                Y|          Five Stars|I had a little st...| 2015-08-31|\n",
            "|         US|   16053526|R1LSH74R9XAP59|B00164AZA4|     473982505| Search and Rescue 4|        Software|          2|            0|          1|   N|                Y|    Have windows 10?|Tried to download...| 2015-08-31|\n",
            "|         US|   15319481|R1QXUNTF76K7L6|B00E6LIEFM|     189774198|      Quickbooks Pro|        Software|          2|            0|          0|   N|                Y|Disc was corrupt,...|Disc was corrupt,...| 2015-08-31|\n",
            "|         US|    1441820|R2F7DR75PS8NKT|B00VWEBG06|     852470365|Windows 7 Profess...|        Software|          5|            0|          0|   N|                Y|          Five Stars|Just what I neede...| 2015-08-31|\n",
            "+-----------+-----------+--------------+----------+--------------+--------------------+----------------+-----------+-------------+-----------+----+-----------------+--------------------+--------------------+-----------+\n",
            "only showing top 5 rows\n",
            "\n"
          ],
          "name": "stdout"
        }
      ]
    },
    {
      "cell_type": "code",
      "metadata": {
        "colab": {
          "base_uri": "https://localhost:8080/"
        },
        "id": "NEXI8-Bh4012",
        "outputId": "465baab4-70bc-4b74-d8cf-4a0813a6c791"
      },
      "source": [
        "# Create the vine_table DataFrame\n",
        "vine_df = df.select(['review_id', 'star_rating', 'helpful_votes', 'total_votes', 'vine', 'verified_purchase'])\n",
        "vine_df.show(5)\n",
        "vine_df.count()"
      ],
      "execution_count": 21,
      "outputs": [
        {
          "output_type": "stream",
          "text": [
            "+--------------+-----------+-------------+-----------+----+-----------------+\n",
            "|     review_id|star_rating|helpful_votes|total_votes|vine|verified_purchase|\n",
            "+--------------+-----------+-------------+-----------+----+-----------------+\n",
            "|R3EFW2STIYIY0I|          1|            2|          2|   N|                Y|\n",
            "|R12NR0R5A9F7FT|          5|            0|          0|   N|                Y|\n",
            "|R1LSH74R9XAP59|          2|            0|          1|   N|                Y|\n",
            "|R1QXUNTF76K7L6|          2|            0|          0|   N|                Y|\n",
            "|R2F7DR75PS8NKT|          5|            0|          0|   N|                Y|\n",
            "+--------------+-----------+-------------+-----------+----+-----------------+\n",
            "only showing top 5 rows\n",
            "\n"
          ],
          "name": "stdout"
        },
        {
          "output_type": "execute_result",
          "data": {
            "text/plain": [
              "341931"
            ]
          },
          "metadata": {
            "tags": []
          },
          "execution_count": 21
        }
      ]
    },
    {
      "cell_type": "code",
      "metadata": {
        "colab": {
          "base_uri": "https://localhost:8080/"
        },
        "id": "PssEOcw95gOl",
        "outputId": "bc9af963-b826-4866-d2cf-768593866523"
      },
      "source": [
        "# Filter DataFrame to retrieve all rows where total_votes count is greater than or equal to 20\n",
        "filtered_df = vine_df.filter(\"total_votes>=20\").orderBy(vine_df[\"total_votes\"].asc())\n",
        "filtered_df.show()\n",
        "filtered_df.count()"
      ],
      "execution_count": 22,
      "outputs": [
        {
          "output_type": "stream",
          "text": [
            "+--------------+-----------+-------------+-----------+----+-----------------+\n",
            "|     review_id|star_rating|helpful_votes|total_votes|vine|verified_purchase|\n",
            "+--------------+-----------+-------------+-----------+----+-----------------+\n",
            "|R3C3UU3AWSPCPQ|          1|           13|         20|   N|                N|\n",
            "|R1VZNSTRV9IE38|          1|           20|         20|   N|                Y|\n",
            "|R2M9V2XMOA5MEJ|          1|           19|         20|   N|                Y|\n",
            "|R1QMF01BDRT2LJ|          1|           10|         20|   N|                N|\n",
            "|R2G908XLS4JISS|          5|           20|         20|   N|                N|\n",
            "|R3E9P8SZEMFTBK|          2|           12|         20|   N|                N|\n",
            "|R3K2ZVAQ2O3LWT|          1|            7|         20|   N|                Y|\n",
            "|R1CXK4SGLJB4FE|          1|           15|         20|   N|                Y|\n",
            "|R3GJGFTSDNVCHH|          5|           16|         20|   N|                N|\n",
            "|R3JANDU5B4OSF0|          2|            6|         20|   N|                N|\n",
            "|R17A3UL7L22B8B|          3|           18|         20|   N|                N|\n",
            "|R1FWWYZ2U0ZPJV|          1|           16|         20|   N|                Y|\n",
            "|R3R3MI19D1KJDF|          4|           20|         20|   N|                Y|\n",
            "|R3QDRWZTGQPEDB|          1|           18|         20|   N|                Y|\n",
            "|R30TCX1Q46IFBX|          2|           20|         20|   N|                N|\n",
            "| R6A9T3U65BCUE|          1|           11|         20|   N|                N|\n",
            "|R1UL46EGKI6GMW|          3|           20|         20|   N|                Y|\n",
            "|R1DJ978EYO294W|          5|            9|         20|   N|                N|\n",
            "|R2X9BMF1XJBON8|          1|           20|         20|   N|                N|\n",
            "|R1PXUULGJ2ARI8|          3|           20|         20|   N|                Y|\n",
            "+--------------+-----------+-------------+-----------+----+-----------------+\n",
            "only showing top 20 rows\n",
            "\n"
          ],
          "name": "stdout"
        },
        {
          "output_type": "execute_result",
          "data": {
            "text/plain": [
              "20216"
            ]
          },
          "metadata": {
            "tags": []
          },
          "execution_count": 22
        }
      ]
    },
    {
      "cell_type": "code",
      "metadata": {
        "colab": {
          "base_uri": "https://localhost:8080/"
        },
        "id": "54T-RQqq70TY",
        "outputId": "63b7c1d4-ab1b-4503-c18f-4c19aa5ea0a7"
      },
      "source": [
        "# Filter filtered_df to retrieve rows where helpful_votes/total_votes is greater than or equal to 50%\n",
        "helpful_df = filtered_df.filter((filtered_df['helpful_votes']) / (filtered_df['total_votes']) >= 0.5)\n",
        "helpful_df.show(5)\n",
        "helpful_df.count()"
      ],
      "execution_count": 24,
      "outputs": [
        {
          "output_type": "stream",
          "text": [
            "+--------------+-----------+-------------+-----------+----+-----------------+\n",
            "|     review_id|star_rating|helpful_votes|total_votes|vine|verified_purchase|\n",
            "+--------------+-----------+-------------+-----------+----+-----------------+\n",
            "|R1PXUULGJ2ARI8|          3|           20|         20|   N|                Y|\n",
            "|R2G908XLS4JISS|          5|           20|         20|   N|                N|\n",
            "|R3QDRWZTGQPEDB|          1|           18|         20|   N|                Y|\n",
            "|R1QMF01BDRT2LJ|          1|           10|         20|   N|                N|\n",
            "|R1CXK4SGLJB4FE|          1|           15|         20|   N|                Y|\n",
            "+--------------+-----------+-------------+-----------+----+-----------------+\n",
            "only showing top 5 rows\n",
            "\n"
          ],
          "name": "stdout"
        },
        {
          "output_type": "execute_result",
          "data": {
            "text/plain": [
              "17762"
            ]
          },
          "metadata": {
            "tags": []
          },
          "execution_count": 24
        }
      ]
    },
    {
      "cell_type": "markdown",
      "metadata": {
        "id": "GLge11q3BLbo"
      },
      "source": [
        "# Vine Program Analysis"
      ]
    },
    {
      "cell_type": "code",
      "metadata": {
        "colab": {
          "base_uri": "https://localhost:8080/"
        },
        "id": "24oae4q598g5",
        "outputId": "a5d956f9-35ca-498f-a3fc-d5512a1cf44a"
      },
      "source": [
        "# Filter helpful_df to create table that only has the rows where a review was written as part of vine program(paid)\n",
        "vine_program_df = helpful_df.filter(helpful_df['vine'] == 'Y')\n",
        "vine_program_df.show(5)"
      ],
      "execution_count": 25,
      "outputs": [
        {
          "output_type": "stream",
          "text": [
            "+--------------+-----------+-------------+-----------+----+-----------------+\n",
            "|     review_id|star_rating|helpful_votes|total_votes|vine|verified_purchase|\n",
            "+--------------+-----------+-------------+-----------+----+-----------------+\n",
            "|R1BGEGOX6SCYU2|          5|           19|         20|   Y|                N|\n",
            "|R2SLQR7YTQELLA|          5|           19|         20|   Y|                N|\n",
            "|R3BCPKHRR5942R|          3|           19|         20|   Y|                N|\n",
            "|R3IZBBDG779H1G|          3|           17|         20|   Y|                N|\n",
            "|R254QE8B67FICR|          5|           18|         20|   Y|                N|\n",
            "+--------------+-----------+-------------+-----------+----+-----------------+\n",
            "only showing top 5 rows\n",
            "\n"
          ],
          "name": "stdout"
        }
      ]
    },
    {
      "cell_type": "code",
      "metadata": {
        "colab": {
          "base_uri": "https://localhost:8080/"
        },
        "id": "S1ymeAZ4FPXl",
        "outputId": "8de1874f-4712-4ce4-b05e-81ff32736db8"
      },
      "source": [
        "# Total number of vine program reviews\n",
        "total_vine_reviews = vine_program_df.count()\n",
        "print(f\" There are a total of {total_vine_reviews} vine reviews\")\n"
      ],
      "execution_count": 26,
      "outputs": [
        {
          "output_type": "stream",
          "text": [
            " There are a total of 248 vine reviews\n"
          ],
          "name": "stdout"
        }
      ]
    },
    {
      "cell_type": "code",
      "metadata": {
        "colab": {
          "base_uri": "https://localhost:8080/"
        },
        "id": "Y8Yo9awfDB-S",
        "outputId": "870f1a84-8139-4241-8673-9b9a4d21b60d"
      },
      "source": [
        "# 5-star reviews from vine program\n",
        "five_star_vine_df = vine_program_df.filter(vine_program_df['star_rating'] == '5')\n",
        "\n",
        "# 5-star review count from vine program\n",
        "five_star_vine_reviews = five_star_vine_df.count()\n",
        "print(f\"There are {five_star_vine_reviews} five-star reviews from the vine program\")"
      ],
      "execution_count": 27,
      "outputs": [
        {
          "output_type": "stream",
          "text": [
            "There are 102 five-star reviews from the vine program\n"
          ],
          "name": "stdout"
        }
      ]
    },
    {
      "cell_type": "code",
      "metadata": {
        "colab": {
          "base_uri": "https://localhost:8080/"
        },
        "id": "IKogtSKKErpz",
        "outputId": "880ddce1-26fd-44a9-a55e-a46c4a925f75"
      },
      "source": [
        "# Percentage of 5-star reviews from vine program\n",
        "percentage = round(((five_star_vine_reviews / total_vine_reviews) * 100), 0)\n",
        "print(f\"{percentage}% of vine reviews are five-star reviews\")"
      ],
      "execution_count": 28,
      "outputs": [
        {
          "output_type": "stream",
          "text": [
            "41.0% of vine reviews are five-star reviews\n"
          ],
          "name": "stdout"
        }
      ]
    },
    {
      "cell_type": "markdown",
      "metadata": {
        "id": "H9KJMOneCvp9"
      },
      "source": [
        "# Non-Vine Program Analysis"
      ]
    },
    {
      "cell_type": "code",
      "metadata": {
        "colab": {
          "base_uri": "https://localhost:8080/"
        },
        "id": "Svj0iZDM-fTD",
        "outputId": "09dfb33f-ebb2-4056-c0c5-75d94d11a373"
      },
      "source": [
        "# Filter helpful_df to create table that only has the rows where a review was not written as part of vine program(unpaid)\n",
        "non_vine_program_df = helpful_df.filter(helpful_df['vine'] == 'N')\n",
        "non_vine_program_df.show(5)"
      ],
      "execution_count": 29,
      "outputs": [
        {
          "output_type": "stream",
          "text": [
            "+--------------+-----------+-------------+-----------+----+-----------------+\n",
            "|     review_id|star_rating|helpful_votes|total_votes|vine|verified_purchase|\n",
            "+--------------+-----------+-------------+-----------+----+-----------------+\n",
            "|R1PXUULGJ2ARI8|          3|           20|         20|   N|                Y|\n",
            "|R2G908XLS4JISS|          5|           20|         20|   N|                N|\n",
            "|R3QDRWZTGQPEDB|          1|           18|         20|   N|                Y|\n",
            "|R1QMF01BDRT2LJ|          1|           10|         20|   N|                N|\n",
            "|R1CXK4SGLJB4FE|          1|           15|         20|   N|                Y|\n",
            "+--------------+-----------+-------------+-----------+----+-----------------+\n",
            "only showing top 5 rows\n",
            "\n"
          ],
          "name": "stdout"
        }
      ]
    },
    {
      "cell_type": "code",
      "metadata": {
        "colab": {
          "base_uri": "https://localhost:8080/"
        },
        "id": "gE0Jb4r_KArG",
        "outputId": "f580de2d-0269-4944-bbf6-179ceaafec82"
      },
      "source": [
        "# Total number of non-vine program reviews\n",
        "total_non_vine_reviews = non_vine_program_df.count()\n",
        "print(f\"There are a total of {total_non_vine_reviews:,} non-vine reviews\")"
      ],
      "execution_count": 30,
      "outputs": [
        {
          "output_type": "stream",
          "text": [
            "There are a total of 17,514 non-vine reviews\n"
          ],
          "name": "stdout"
        }
      ]
    },
    {
      "cell_type": "code",
      "metadata": {
        "colab": {
          "base_uri": "https://localhost:8080/"
        },
        "id": "7FCuaakHKRg3",
        "outputId": "1ec42d04-3431-4820-a247-2c81eae76fd8"
      },
      "source": [
        "# 5-star reviews from non-vine program\n",
        "five_star_non_vine_df = non_vine_program_df.filter(non_vine_program_df['star_rating'] == '5')\n",
        "\n",
        "# 5-star review count from vine program\n",
        "five_star_non_vine_reviews = five_star_non_vine_df.count()\n",
        "print(f\"There are {five_star_non_vine_reviews:,} five-star reviews that are non-vine reviews\")"
      ],
      "execution_count": 31,
      "outputs": [
        {
          "output_type": "stream",
          "text": [
            "There are 5,154 five-star reviews that are non-vine reviews\n"
          ],
          "name": "stdout"
        }
      ]
    },
    {
      "cell_type": "code",
      "metadata": {
        "colab": {
          "base_uri": "https://localhost:8080/"
        },
        "id": "yDkHOZ4wOfB0",
        "outputId": "8098175e-8f03-4b81-a1e0-6e841ff5a8d3"
      },
      "source": [
        "# Percentage of 5-star reviews from non-vine program\n",
        "percentage = round(((five_star_non_vine_reviews / total_non_vine_reviews) * 100), 0)\n",
        "print(f\"{percentage}% of non-vine reviews are five-star reviews\")"
      ],
      "execution_count": 32,
      "outputs": [
        {
          "output_type": "stream",
          "text": [
            "29.0% of non-vine reviews are five-star reviews\n"
          ],
          "name": "stdout"
        }
      ]
    },
    {
      "cell_type": "code",
      "metadata": {
        "id": "uZTTx94qOnjQ"
      },
      "source": [
        ""
      ],
      "execution_count": null,
      "outputs": []
    }
  ]
}