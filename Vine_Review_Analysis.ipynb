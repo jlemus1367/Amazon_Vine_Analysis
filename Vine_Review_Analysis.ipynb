{
  "nbformat": 4,
  "nbformat_minor": 0,
  "metadata": {
    "colab": {
      "name": "Vine_Review_Analysis.ipynb",
      "provenance": [],
      "collapsed_sections": []
    },
    "kernelspec": {
      "name": "python3",
      "display_name": "Python 3"
    },
    "language_info": {
      "name": "python"
    }
  },
  "cells": [
    {
      "cell_type": "code",
      "metadata": {
        "colab": {
          "base_uri": "https://localhost:8080/"
        },
        "id": "SvwrLNTG0S0A",
        "outputId": "b997648c-9023-4f57-c49a-2b3ba1ad90de"
      },
      "source": [
        "import os\n",
        "# Find the latest version of spark 2.0  from http://www-us.apache.org/dist/spark/ and enter as the spark version\n",
        "# For example:\n",
        "# spark_version = 'spark-3.0.0'\n",
        "spark_version = 'spark-3.0.2'\n",
        "os.environ['SPARK_VERSION']=spark_version\n",
        "\n",
        "# Install Spark and Java\n",
        "!apt-get update\n",
        "!apt-get install openjdk-11-jdk-headless -qq > /dev/null\n",
        "!wget -q http://www-us.apache.org/dist/spark/$SPARK_VERSION/$SPARK_VERSION-bin-hadoop2.7.tgz\n",
        "!tar xf $SPARK_VERSION-bin-hadoop2.7.tgz\n",
        "!pip install -q findspark\n",
        "\n",
        "# Set Environment Variables\n",
        "import os\n",
        "os.environ[\"JAVA_HOME\"] = \"/usr/lib/jvm/java-11-openjdk-amd64\"\n",
        "os.environ[\"SPARK_HOME\"] = f\"/content/{spark_version}-bin-hadoop2.7\"\n",
        "\n",
        "# Start a SparkSession\n",
        "import findspark\n",
        "findspark.init()"
      ],
      "execution_count": 1,
      "outputs": [
        {
          "output_type": "stream",
          "text": [
            "\r0% [Working]\r            \rGet:1 http://security.ubuntu.com/ubuntu bionic-security InRelease [88.7 kB]\n",
            "\r0% [Connecting to archive.ubuntu.com] [1 InRelease 14.2 kB/88.7 kB 16%] [Connec\r0% [Connecting to archive.ubuntu.com (91.189.88.142)] [Waiting for headers] [Wa\r0% [1 InRelease gpgv 88.7 kB] [Connecting to archive.ubuntu.com (91.189.88.142)\r                                                                               \rIgn:2 https://developer.download.nvidia.com/compute/cuda/repos/ubuntu1804/x86_64  InRelease\n",
            "\r0% [1 InRelease gpgv 88.7 kB] [Connecting to archive.ubuntu.com (91.189.88.142)\r                                                                               \rHit:3 https://cloud.r-project.org/bin/linux/ubuntu bionic-cran40/ InRelease\n",
            "\r0% [1 InRelease gpgv 88.7 kB] [Connecting to archive.ubuntu.com (91.189.88.142)\r                                                                               \rHit:4 http://ppa.launchpad.net/c2d4u.team/c2d4u4.0+/ubuntu bionic InRelease\n",
            "\r0% [1 InRelease gpgv 88.7 kB] [Waiting for headers] [Connecting to ppa.launchpa\r                                                                               \rIgn:5 https://developer.download.nvidia.com/compute/machine-learning/repos/ubuntu1804/x86_64  InRelease\n",
            "\r0% [1 InRelease gpgv 88.7 kB] [Waiting for headers] [Connecting to ppa.launchpa\r                                                                               \rGet:6 https://developer.download.nvidia.com/compute/cuda/repos/ubuntu1804/x86_64  Release [697 B]\n",
            "\r0% [1 InRelease gpgv 88.7 kB] [Waiting for headers] [Connecting to ppa.launchpa\r                                                                               \rHit:7 https://developer.download.nvidia.com/compute/machine-learning/repos/ubuntu1804/x86_64  Release\n",
            "Get:8 https://developer.download.nvidia.com/compute/cuda/repos/ubuntu1804/x86_64  Release.gpg [836 B]\n",
            "Hit:9 http://archive.ubuntu.com/ubuntu bionic InRelease\n",
            "Get:10 http://archive.ubuntu.com/ubuntu bionic-updates InRelease [88.7 kB]\n",
            "Hit:11 http://ppa.launchpad.net/cran/libgit2/ubuntu bionic InRelease\n",
            "Get:12 http://security.ubuntu.com/ubuntu bionic-security/main amd64 Packages [2,185 kB]\n",
            "Hit:13 http://ppa.launchpad.net/deadsnakes/ppa/ubuntu bionic InRelease\n",
            "Get:14 http://security.ubuntu.com/ubuntu bionic-security/universe amd64 Packages [1,415 kB]\n",
            "Get:15 http://archive.ubuntu.com/ubuntu bionic-backports InRelease [74.6 kB]\n",
            "Hit:16 http://ppa.launchpad.net/graphics-drivers/ppa/ubuntu bionic InRelease\n",
            "Ign:18 https://developer.download.nvidia.com/compute/cuda/repos/ubuntu1804/x86_64  Packages\n",
            "Get:18 https://developer.download.nvidia.com/compute/cuda/repos/ubuntu1804/x86_64  Packages [599 kB]\n",
            "Get:19 http://archive.ubuntu.com/ubuntu bionic-updates/universe amd64 Packages [2,185 kB]\n",
            "Get:20 http://archive.ubuntu.com/ubuntu bionic-updates/main amd64 Packages [2,619 kB]\n",
            "Fetched 9,255 kB in 3s (2,794 kB/s)\n",
            "Reading package lists... Done\n"
          ],
          "name": "stdout"
        }
      ]
    },
    {
      "cell_type": "code",
      "metadata": {
        "id": "Q39qQqvy4cM_"
      },
      "source": [
        "from pyspark.sql import SparkSession\n",
        "spark = SparkSession.builder.appName(\"BigData-Challenge\").config(\"spark.driver.extraClassPath\",\"/content/postgresql-42.2.16.jar\").getOrCreate()"
      ],
      "execution_count": 2,
      "outputs": []
    },
    {
      "cell_type": "code",
      "metadata": {
        "colab": {
          "base_uri": "https://localhost:8080/"
        },
        "id": "i444Mygt4nmv",
        "outputId": "8f2556f5-04bb-46a5-b587-bc6bb3e8689f"
      },
      "source": [
        "from pyspark import SparkFiles\n",
        "url = \"https://s3.amazonaws.com/amazon-reviews-pds/tsv/amazon_reviews_us_Software_v1_00.tsv.gz\"\n",
        "spark.sparkContext.addFile(url)\n",
        "df = spark.read.option(\"encoding\", \"UTF-8\").csv(SparkFiles.get(\"\"), sep=\"\\t\", header=True, inferSchema=True)\n",
        "df.show(5)"
      ],
      "execution_count": 3,
      "outputs": [
        {
          "output_type": "stream",
          "text": [
            "+-----------+-----------+--------------+----------+--------------+--------------------+----------------+-----------+-------------+-----------+----+-----------------+--------------------+--------------------+-----------+\n",
            "|marketplace|customer_id|     review_id|product_id|product_parent|       product_title|product_category|star_rating|helpful_votes|total_votes|vine|verified_purchase|     review_headline|         review_body|review_date|\n",
            "+-----------+-----------+--------------+----------+--------------+--------------------+----------------+-----------+-------------+-----------+----+-----------------+--------------------+--------------------+-----------+\n",
            "|         US|   42605767|R3EFW2STIYIY0I|B00MUTIDKI|     248732228|McAfee 2015 Inter...|        Software|          1|            2|          2|   N|                Y|I was very disapp...|I was very disapp...| 2015-08-31|\n",
            "|         US|   51771800|R12NR0R5A9F7FT|B00EPACNUG|     531462352|Hallmark Card Stu...|        Software|          5|            0|          0|   N|                Y|          Five Stars|I had a little st...| 2015-08-31|\n",
            "|         US|   16053526|R1LSH74R9XAP59|B00164AZA4|     473982505| Search and Rescue 4|        Software|          2|            0|          1|   N|                Y|    Have windows 10?|Tried to download...| 2015-08-31|\n",
            "|         US|   15319481|R1QXUNTF76K7L6|B00E6LIEFM|     189774198|      Quickbooks Pro|        Software|          2|            0|          0|   N|                Y|Disc was corrupt,...|Disc was corrupt,...| 2015-08-31|\n",
            "|         US|    1441820|R2F7DR75PS8NKT|B00VWEBG06|     852470365|Windows 7 Profess...|        Software|          5|            0|          0|   N|                Y|          Five Stars|Just what I neede...| 2015-08-31|\n",
            "+-----------+-----------+--------------+----------+--------------+--------------------+----------------+-----------+-------------+-----------+----+-----------------+--------------------+--------------------+-----------+\n",
            "only showing top 5 rows\n",
            "\n"
          ],
          "name": "stdout"
        }
      ]
    },
    {
      "cell_type": "code",
      "metadata": {
        "colab": {
          "base_uri": "https://localhost:8080/"
        },
        "id": "NEXI8-Bh4012",
        "outputId": "00659b5a-802b-42b2-cca8-41f2081b2bfd"
      },
      "source": [
        "# Create the vine_table DataFrame\n",
        "vine_df = df.select(['review_id', 'star_rating', 'helpful_votes', 'total_votes', 'vine', 'verified_purchase'])\n",
        "vine_df.show(5)\n",
        "vine_df.count()"
      ],
      "execution_count": 15,
      "outputs": [
        {
          "output_type": "stream",
          "text": [
            "+--------------+-----------+-------------+-----------+----+-----------------+\n",
            "|     review_id|star_rating|helpful_votes|total_votes|vine|verified_purchase|\n",
            "+--------------+-----------+-------------+-----------+----+-----------------+\n",
            "|R3EFW2STIYIY0I|          1|            2|          2|   N|                Y|\n",
            "|R12NR0R5A9F7FT|          5|            0|          0|   N|                Y|\n",
            "|R1LSH74R9XAP59|          2|            0|          1|   N|                Y|\n",
            "|R1QXUNTF76K7L6|          2|            0|          0|   N|                Y|\n",
            "|R2F7DR75PS8NKT|          5|            0|          0|   N|                Y|\n",
            "+--------------+-----------+-------------+-----------+----+-----------------+\n",
            "only showing top 5 rows\n",
            "\n"
          ],
          "name": "stdout"
        },
        {
          "output_type": "execute_result",
          "data": {
            "text/plain": [
              "341931"
            ]
          },
          "metadata": {
            "tags": []
          },
          "execution_count": 15
        }
      ]
    },
    {
      "cell_type": "code",
      "metadata": {
        "colab": {
          "base_uri": "https://localhost:8080/"
        },
        "id": "PssEOcw95gOl",
        "outputId": "339c97cf-ad4a-4932-9ad5-982e91d130ef"
      },
      "source": [
        "# Filter DataFrame to retrieve all rows where total_votes count is greater than or equal to 20\n",
        "filtered_df = vine_df.filter(\"total_votes>=20\").orderBy(vine_df[\"total_votes\"].asc())\n",
        "filtered_df.show()\n",
        "filtered_df.count()"
      ],
      "execution_count": 16,
      "outputs": [
        {
          "output_type": "stream",
          "text": [
            "+--------------+-----------+-------------+-----------+----+-----------------+\n",
            "|     review_id|star_rating|helpful_votes|total_votes|vine|verified_purchase|\n",
            "+--------------+-----------+-------------+-----------+----+-----------------+\n",
            "|R3C3UU3AWSPCPQ|          1|           13|         20|   N|                N|\n",
            "|R1VZNSTRV9IE38|          1|           20|         20|   N|                Y|\n",
            "|R2M9V2XMOA5MEJ|          1|           19|         20|   N|                Y|\n",
            "|R1QMF01BDRT2LJ|          1|           10|         20|   N|                N|\n",
            "|R2G908XLS4JISS|          5|           20|         20|   N|                N|\n",
            "|R3E9P8SZEMFTBK|          2|           12|         20|   N|                N|\n",
            "|R3K2ZVAQ2O3LWT|          1|            7|         20|   N|                Y|\n",
            "|R1CXK4SGLJB4FE|          1|           15|         20|   N|                Y|\n",
            "|R3GJGFTSDNVCHH|          5|           16|         20|   N|                N|\n",
            "|R3JANDU5B4OSF0|          2|            6|         20|   N|                N|\n",
            "|R17A3UL7L22B8B|          3|           18|         20|   N|                N|\n",
            "|R1FWWYZ2U0ZPJV|          1|           16|         20|   N|                Y|\n",
            "|R3R3MI19D1KJDF|          4|           20|         20|   N|                Y|\n",
            "|R3QDRWZTGQPEDB|          1|           18|         20|   N|                Y|\n",
            "|R30TCX1Q46IFBX|          2|           20|         20|   N|                N|\n",
            "| R6A9T3U65BCUE|          1|           11|         20|   N|                N|\n",
            "|R1UL46EGKI6GMW|          3|           20|         20|   N|                Y|\n",
            "|R1DJ978EYO294W|          5|            9|         20|   N|                N|\n",
            "|R2X9BMF1XJBON8|          1|           20|         20|   N|                N|\n",
            "|R1PXUULGJ2ARI8|          3|           20|         20|   N|                Y|\n",
            "+--------------+-----------+-------------+-----------+----+-----------------+\n",
            "only showing top 20 rows\n",
            "\n"
          ],
          "name": "stdout"
        },
        {
          "output_type": "execute_result",
          "data": {
            "text/plain": [
              "20216"
            ]
          },
          "metadata": {
            "tags": []
          },
          "execution_count": 16
        }
      ]
    },
    {
      "cell_type": "code",
      "metadata": {
        "colab": {
          "base_uri": "https://localhost:8080/"
        },
        "id": "54T-RQqq70TY",
        "outputId": "4697e844-40c4-4900-d17b-540c6175c89c"
      },
      "source": [
        "# Filter filtered_df to retrieve rows where helpful_votes/total_votes is greater than or equal to 50%\n",
        "helpful_df = filtered_df.filter((filtered_df['helpful_votes']) / (filtered_df['total_votes']) >= 0.5)\n",
        "helpful_df.show()\n",
        "helpful_df.count()"
      ],
      "execution_count": 17,
      "outputs": [
        {
          "output_type": "stream",
          "text": [
            "+--------------+-----------+-------------+-----------+----+-----------------+\n",
            "|     review_id|star_rating|helpful_votes|total_votes|vine|verified_purchase|\n",
            "+--------------+-----------+-------------+-----------+----+-----------------+\n",
            "|R17A3UL7L22B8B|          3|           18|         20|   N|                N|\n",
            "|R1QMF01BDRT2LJ|          1|           10|         20|   N|                N|\n",
            "|R1FWWYZ2U0ZPJV|          1|           16|         20|   N|                Y|\n",
            "|R3E9P8SZEMFTBK|          2|           12|         20|   N|                N|\n",
            "|R1PXUULGJ2ARI8|          3|           20|         20|   N|                Y|\n",
            "|R3GJGFTSDNVCHH|          5|           16|         20|   N|                N|\n",
            "| R6A9T3U65BCUE|          1|           11|         20|   N|                N|\n",
            "|R3QDRWZTGQPEDB|          1|           18|         20|   N|                Y|\n",
            "|R1CXK4SGLJB4FE|          1|           15|         20|   N|                Y|\n",
            "| RMXKAXWG5CDRN|          1|           16|         20|   N|                N|\n",
            "|R2M9V2XMOA5MEJ|          1|           19|         20|   N|                Y|\n",
            "|R2G908XLS4JISS|          5|           20|         20|   N|                N|\n",
            "| R8I1GUKVDGD02|          2|           18|         20|   N|                Y|\n",
            "|R3R3MI19D1KJDF|          4|           20|         20|   N|                Y|\n",
            "|R30TCX1Q46IFBX|          2|           20|         20|   N|                N|\n",
            "|R1UL46EGKI6GMW|          3|           20|         20|   N|                Y|\n",
            "|R2X9BMF1XJBON8|          1|           20|         20|   N|                N|\n",
            "|R3M8VN1574RJDR|          1|           15|         20|   N|                Y|\n",
            "|R1VZNSTRV9IE38|          1|           20|         20|   N|                Y|\n",
            "|R3C3UU3AWSPCPQ|          1|           13|         20|   N|                N|\n",
            "+--------------+-----------+-------------+-----------+----+-----------------+\n",
            "only showing top 20 rows\n",
            "\n"
          ],
          "name": "stdout"
        },
        {
          "output_type": "execute_result",
          "data": {
            "text/plain": [
              "17762"
            ]
          },
          "metadata": {
            "tags": []
          },
          "execution_count": 17
        }
      ]
    },
    {
      "cell_type": "markdown",
      "metadata": {
        "id": "GLge11q3BLbo"
      },
      "source": [
        "# Vine Program Analysis"
      ]
    },
    {
      "cell_type": "code",
      "metadata": {
        "colab": {
          "base_uri": "https://localhost:8080/"
        },
        "id": "24oae4q598g5",
        "outputId": "ef2060f7-9d56-42ec-be89-ea0c76279841"
      },
      "source": [
        "# Filter helpful_df to create table that only has the rows where a review was written as part of vine program(paid)\n",
        "vine_program_df = helpful_df.filter(helpful_df['vine'] == 'Y')\n",
        "vine_program_df.show()"
      ],
      "execution_count": 18,
      "outputs": [
        {
          "output_type": "stream",
          "text": [
            "+--------------+-----------+-------------+-----------+----+-----------------+\n",
            "|     review_id|star_rating|helpful_votes|total_votes|vine|verified_purchase|\n",
            "+--------------+-----------+-------------+-----------+----+-----------------+\n",
            "|R1BGEGOX6SCYU2|          5|           19|         20|   Y|                N|\n",
            "| RWQZCIUS2Z8IS|          5|           19|         20|   Y|                N|\n",
            "|R3BCPKHRR5942R|          3|           19|         20|   Y|                N|\n",
            "|R2ODPCF6F4LT3O|          3|           17|         20|   Y|                N|\n",
            "|R2SLQR7YTQELLA|          5|           19|         20|   Y|                N|\n",
            "| RPQBEIHH92962|          4|           17|         20|   Y|                N|\n",
            "|R3SF7YZ9N8DVN2|          5|           19|         20|   Y|                N|\n",
            "|R3125W32EF7TY8|          5|           20|         20|   Y|                N|\n",
            "| RSWJ1R6T04O02|          5|           19|         20|   Y|                N|\n",
            "|R3TCHJ0QACS445|          4|           19|         20|   Y|                N|\n",
            "|R2ZAYIN0VSLSRJ|          3|           20|         20|   Y|                N|\n",
            "|R3TYODQJ379ONQ|          3|           20|         20|   Y|                N|\n",
            "| RW9U7VT1GELNS|          5|           16|         20|   Y|                N|\n",
            "| RZHYW4NFNGNWB|          2|           17|         20|   Y|                N|\n",
            "|R254QE8B67FICR|          5|           18|         20|   Y|                N|\n",
            "|R2GSZW8LSS382H|          5|           17|         20|   Y|                N|\n",
            "|R3IZBBDG779H1G|          3|           17|         20|   Y|                N|\n",
            "|R1RRDT1S30HCA3|          4|           21|         21|   Y|                N|\n",
            "|R1E0EF8KGW39LV|          5|           19|         21|   Y|                N|\n",
            "|  RE0ZU411BQER|          2|           17|         21|   Y|                N|\n",
            "+--------------+-----------+-------------+-----------+----+-----------------+\n",
            "only showing top 20 rows\n",
            "\n"
          ],
          "name": "stdout"
        }
      ]
    },
    {
      "cell_type": "code",
      "metadata": {
        "colab": {
          "base_uri": "https://localhost:8080/"
        },
        "id": "S1ymeAZ4FPXl",
        "outputId": "5aa414ba-e54a-44da-eb68-4c4e217a7f7e"
      },
      "source": [
        "# Total number of vine program reviews\n",
        "total_vine_reviews = vine_program_df.count()\n",
        "print(total_vine_reviews)"
      ],
      "execution_count": 19,
      "outputs": [
        {
          "output_type": "stream",
          "text": [
            "248\n"
          ],
          "name": "stdout"
        }
      ]
    },
    {
      "cell_type": "code",
      "metadata": {
        "colab": {
          "base_uri": "https://localhost:8080/"
        },
        "id": "Y8Yo9awfDB-S",
        "outputId": "3c380379-eb81-48ce-dd0f-b9021b0611b8"
      },
      "source": [
        "# 5-star reviews from vine program\n",
        "five_star_vine_df = vine_program_df.filter(vine_program_df['star_rating'] == '5')\n",
        "five_star_vine_df.show()\n",
        "\n",
        "# 5-star review count from vine program\n",
        "five_star_vine_reviews = five_star_vine_df.count()\n",
        "print(five_star_vine_reviews)"
      ],
      "execution_count": 20,
      "outputs": [
        {
          "output_type": "stream",
          "text": [
            "+--------------+-----------+-------------+-----------+----+-----------------+\n",
            "|     review_id|star_rating|helpful_votes|total_votes|vine|verified_purchase|\n",
            "+--------------+-----------+-------------+-----------+----+-----------------+\n",
            "|R254QE8B67FICR|          5|           18|         20|   Y|                N|\n",
            "|R2GSZW8LSS382H|          5|           17|         20|   Y|                N|\n",
            "|R1BGEGOX6SCYU2|          5|           19|         20|   Y|                N|\n",
            "| RWQZCIUS2Z8IS|          5|           19|         20|   Y|                N|\n",
            "| RSWJ1R6T04O02|          5|           19|         20|   Y|                N|\n",
            "|R2SLQR7YTQELLA|          5|           19|         20|   Y|                N|\n",
            "| RW9U7VT1GELNS|          5|           16|         20|   Y|                N|\n",
            "|R3125W32EF7TY8|          5|           20|         20|   Y|                N|\n",
            "|R3SF7YZ9N8DVN2|          5|           19|         20|   Y|                N|\n",
            "|R1AS6E12TGTGVP|          5|           21|         21|   Y|                N|\n",
            "| RNV1TI20G7Z9V|          5|           19|         21|   Y|                N|\n",
            "|R20N4D7PZOE1HE|          5|           19|         21|   Y|                N|\n",
            "|R1E0EF8KGW39LV|          5|           19|         21|   Y|                N|\n",
            "|R3VJAEYZR0D8Q7|          5|           20|         21|   Y|                N|\n",
            "|R14B5QO4LAZTIT|          5|           20|         22|   Y|                N|\n",
            "|R2CGILMX763ZWG|          5|           22|         22|   Y|                N|\n",
            "|R1P6LO0MYJF40E|          5|           23|         23|   Y|                N|\n",
            "|R1HP4C1H3DGC85|          5|           24|         24|   Y|                N|\n",
            "|R1XLGO18EB3KZA|          5|           25|         25|   Y|                N|\n",
            "| R7ST49NTUXZLV|          5|           23|         25|   Y|                N|\n",
            "+--------------+-----------+-------------+-----------+----+-----------------+\n",
            "only showing top 20 rows\n",
            "\n",
            "102\n"
          ],
          "name": "stdout"
        }
      ]
    },
    {
      "cell_type": "code",
      "metadata": {
        "colab": {
          "base_uri": "https://localhost:8080/"
        },
        "id": "IKogtSKKErpz",
        "outputId": "8c76a774-d22d-419d-8668-4f85b4be03d2"
      },
      "source": [
        "# Percentage of 5-star reviews from vine program\n",
        "percentage = (five_star_vine_reviews / total_vine_reviews) * 100\n",
        "print(round(percentage, 2))"
      ],
      "execution_count": 21,
      "outputs": [
        {
          "output_type": "stream",
          "text": [
            "41.13\n"
          ],
          "name": "stdout"
        }
      ]
    },
    {
      "cell_type": "markdown",
      "metadata": {
        "id": "H9KJMOneCvp9"
      },
      "source": [
        "# Non-Vine Program Analysis"
      ]
    },
    {
      "cell_type": "code",
      "metadata": {
        "colab": {
          "base_uri": "https://localhost:8080/"
        },
        "id": "Svj0iZDM-fTD",
        "outputId": "2bc060e6-406f-4312-e4b3-239a54790939"
      },
      "source": [
        "# Filter helpful_df to create table that only has the rows where a review was not written as part of vine program(unpaid)\n",
        "non_vine_program_df = helpful_df.filter(helpful_df['vine'] == 'N')\n",
        "non_vine_program_df.show()"
      ],
      "execution_count": 22,
      "outputs": [
        {
          "output_type": "stream",
          "text": [
            "+--------------+-----------+-------------+-----------+----+-----------------+\n",
            "|     review_id|star_rating|helpful_votes|total_votes|vine|verified_purchase|\n",
            "+--------------+-----------+-------------+-----------+----+-----------------+\n",
            "|R2G908XLS4JISS|          5|           20|         20|   N|                N|\n",
            "| RF553TNOT43HO|          1|           19|         20|   N|                N|\n",
            "|R3GJGFTSDNVCHH|          5|           16|         20|   N|                N|\n",
            "|R17A3UL7L22B8B|          3|           18|         20|   N|                N|\n",
            "| R1Q9Q3H7K7V90|          4|           19|         20|   N|                Y|\n",
            "|R3E9P8SZEMFTBK|          2|           12|         20|   N|                N|\n",
            "|R3R3MI19D1KJDF|          4|           20|         20|   N|                Y|\n",
            "|R1QMF01BDRT2LJ|          1|           10|         20|   N|                N|\n",
            "|R30TCX1Q46IFBX|          2|           20|         20|   N|                N|\n",
            "|R3QDRWZTGQPEDB|          1|           18|         20|   N|                Y|\n",
            "|R1UL46EGKI6GMW|          3|           20|         20|   N|                Y|\n",
            "| RMXKAXWG5CDRN|          1|           16|         20|   N|                N|\n",
            "|R2X9BMF1XJBON8|          1|           20|         20|   N|                N|\n",
            "| R8I1GUKVDGD02|          2|           18|         20|   N|                Y|\n",
            "|R3M8VN1574RJDR|          1|           15|         20|   N|                Y|\n",
            "|R1PXUULGJ2ARI8|          3|           20|         20|   N|                Y|\n",
            "|R1VZNSTRV9IE38|          1|           20|         20|   N|                Y|\n",
            "|R1CXK4SGLJB4FE|          1|           15|         20|   N|                Y|\n",
            "|R3C3UU3AWSPCPQ|          1|           13|         20|   N|                N|\n",
            "|R1FWWYZ2U0ZPJV|          1|           16|         20|   N|                Y|\n",
            "+--------------+-----------+-------------+-----------+----+-----------------+\n",
            "only showing top 20 rows\n",
            "\n"
          ],
          "name": "stdout"
        }
      ]
    },
    {
      "cell_type": "code",
      "metadata": {
        "colab": {
          "base_uri": "https://localhost:8080/"
        },
        "id": "gE0Jb4r_KArG",
        "outputId": "32731fe0-e8c9-4277-e41a-03588a5f3191"
      },
      "source": [
        "# Total number of non-vine program reviews\n",
        "total_non_vine_reviews = non_vine_program_df.count()\n",
        "print(total_non_vine_reviews)"
      ],
      "execution_count": 23,
      "outputs": [
        {
          "output_type": "stream",
          "text": [
            "17514\n"
          ],
          "name": "stdout"
        }
      ]
    },
    {
      "cell_type": "code",
      "metadata": {
        "colab": {
          "base_uri": "https://localhost:8080/"
        },
        "id": "7FCuaakHKRg3",
        "outputId": "02038998-1078-42bf-eb58-3ffc4188b91a"
      },
      "source": [
        "# 5-star reviews from non-vine program\n",
        "five_star_non_vine_df = non_vine_program_df.filter(non_vine_program_df['star_rating'] == '5')\n",
        "five_star_non_vine_df.show()\n",
        "\n",
        "# 5-star review count from vine program\n",
        "five_star_non_vine_reviews = five_star_non_vine_df.count()\n",
        "print(five_star_non_vine_reviews)"
      ],
      "execution_count": 24,
      "outputs": [
        {
          "output_type": "stream",
          "text": [
            "+--------------+-----------+-------------+-----------+----+-----------------+\n",
            "|     review_id|star_rating|helpful_votes|total_votes|vine|verified_purchase|\n",
            "+--------------+-----------+-------------+-----------+----+-----------------+\n",
            "| R7K9Q460DWPJS|          5|           13|         20|   N|                Y|\n",
            "|R1S301EF3ODDBM|          5|           19|         20|   N|                Y|\n",
            "|R1SAJANNCMGJIO|          5|           18|         20|   N|                Y|\n",
            "|R2G908XLS4JISS|          5|           20|         20|   N|                N|\n",
            "| RRJ1UYGM7BJIM|          5|           18|         20|   N|                N|\n",
            "|R3GJGFTSDNVCHH|          5|           16|         20|   N|                N|\n",
            "|R2GY7LXKR1W0G6|          5|           17|         20|   N|                Y|\n",
            "|R26686YB558ZHX|          5|           19|         20|   N|                N|\n",
            "|R1YP5ZQ1HZHRRI|          5|           20|         20|   N|                N|\n",
            "|R18JQZB8Q0HJVH|          5|           20|         20|   N|                N|\n",
            "|R20IAYO0R4TIYA|          5|           19|         20|   N|                Y|\n",
            "| RMDP64A13EP06|          5|           12|         20|   N|                N|\n",
            "|R20ZL75TUMQLUV|          5|           12|         20|   N|                N|\n",
            "| RZDZC5WVO04FG|          5|           19|         20|   N|                N|\n",
            "| R4E5V1214NRJ6|          5|           10|         20|   N|                N|\n",
            "| RVWIGHR0I181Q|          5|           16|         20|   N|                Y|\n",
            "|R2PNLZZVKAFPCK|          5|           12|         20|   N|                N|\n",
            "|R3910Y2MYWIHD2|          5|           18|         20|   N|                Y|\n",
            "|R395D03TNRO39F|          5|           14|         20|   N|                N|\n",
            "|R2TSOTV0WMQTI7|          5|           12|         20|   N|                Y|\n",
            "+--------------+-----------+-------------+-----------+----+-----------------+\n",
            "only showing top 20 rows\n",
            "\n",
            "5154\n"
          ],
          "name": "stdout"
        }
      ]
    },
    {
      "cell_type": "code",
      "metadata": {
        "colab": {
          "base_uri": "https://localhost:8080/"
        },
        "id": "yDkHOZ4wOfB0",
        "outputId": "a332415b-9278-4da3-e1c4-1bf4d9e1d52d"
      },
      "source": [
        "# Percentage of 5-star reviews from non-vine program\n",
        "percentage = (five_star_non_vine_reviews / total_non_vine_reviews) * 100\n",
        "print(round(percentage, 2))"
      ],
      "execution_count": 25,
      "outputs": [
        {
          "output_type": "stream",
          "text": [
            "29.43\n"
          ],
          "name": "stdout"
        }
      ]
    },
    {
      "cell_type": "code",
      "metadata": {
        "id": "uZTTx94qOnjQ"
      },
      "source": [
        ""
      ],
      "execution_count": null,
      "outputs": []
    }
  ]
}